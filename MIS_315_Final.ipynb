{
  "nbformat": 4,
  "nbformat_minor": 0,
  "metadata": {
    "colab": {
      "provenance": [],
      "authorship_tag": "ABX9TyOlZwH2+LhTBl63+DTWWRGW",
      "include_colab_link": true
    },
    "kernelspec": {
      "name": "python3",
      "display_name": "Python 3"
    },
    "language_info": {
      "name": "python"
    }
  },
  "cells": [
    {
      "cell_type": "markdown",
      "metadata": {
        "id": "view-in-github",
        "colab_type": "text"
      },
      "source": [
        "<a href=\"https://colab.research.google.com/github/baz515/Experience/blob/main/MIS_315_Final.ipynb\" target=\"_parent\"><img src=\"https://colab.research.google.com/assets/colab-badge.svg\" alt=\"Open In Colab\"/></a>"
      ]
    },
    {
      "cell_type": "markdown",
      "source": [
        "## Write a function sum_without_twenties (a, b, c) that returns the sum of three int arguments a, b, and c. However, do not include any int as part of the sum if it is within the range [20, 29]"
      ],
      "metadata": {
        "id": "UVuwo_0YL0up"
      }
    },
    {
      "cell_type": "code",
      "execution_count": null,
      "metadata": {
        "colab": {
          "base_uri": "https://localhost:8080/"
        },
        "id": "jMMGTRUwLuJn",
        "outputId": "ad73324a-7dc9-4a5e-ddb0-9d0f5782f401"
      },
      "outputs": [
        {
          "output_type": "stream",
          "name": "stdout",
          "text": [
            "12\n",
            "42\n",
            "3\n"
          ]
        }
      ],
      "source": [
        "def sum_without_twenties(a, b, c):\n",
        "  nums = [a, b, c]\n",
        "  sum = 0\n",
        "  for num in nums:\n",
        "    if not is_twenty_something(num):\n",
        "      sum += num\n",
        "  return sum\n",
        "\n",
        "def is_twenty_something(num):\n",
        "  if 20 <= num <= 29:\n",
        "    return True\n",
        "  else:\n",
        "    return False\n",
        "\n",
        "print(sum_without_twenties(3,4,5))\n",
        "print(sum_without_twenties(13,14,15))\n",
        "print(sum_without_twenties(20,1,2))"
      ]
    },
    {
      "cell_type": "markdown",
      "source": [
        "## Ask user about their first and last name, and email address. If user want to save his/her information in a CSV file, use a function that checks if email address does not exist, it adds the name to the CSV file."
      ],
      "metadata": {
        "id": "6GoXJ-i2MRE7"
      }
    },
    {
      "cell_type": "code",
      "source": [
        "import pandas as pd\n",
        "import csv\n",
        "\n",
        "\n",
        "def save_to_csv(fname,lname,email, add_header = False):\n",
        "  with open('userInfo.csv', 'a') as file:\n",
        "    writer = csv.writer(file)\n",
        "\n",
        "    if add_header:\n",
        "      row1 = ['First Name', 'Last Name', 'Email']\n",
        "      writer.writerow(row1)\n",
        "\n",
        "\n",
        "    row1 = [fname,lname,email]\n",
        "    writer.writerow(row1)\n",
        "    print('User succefully added')\n",
        "\n",
        "\n",
        "def add_user(fname, lname, email):\n",
        "\n",
        "  try:\n",
        "    #Loading CSV file\n",
        "    user = pd.read_csv('userInfo.csv')\n",
        "\n",
        "    #Checking if user exist\n",
        "    no_user = user[user['Email'] == email].shape\n",
        "\n",
        "    if no_user[0] == 0:\n",
        "      #User does not exist and will be added to the csv file\n",
        "      print('User does not exist! It will be added now')\n",
        "      save_to_csv(fname,lname,email)\n",
        "    else:\n",
        "      print('User already exists in the file')\n",
        "  except:\n",
        "    #No other user exist. Fille will be saved\n",
        "    print('No other user saved before. Information will be saved')\n",
        "    save_to_csv(fname,lname,email, add_header= True)\n",
        "\n",
        "first_name = \"Joe\" #@param {type:\"string\"}\n",
        "last_name = \"Loftgren\" #@param {type:\"string\"}\n",
        "email = \"jLoft@sdsu.edu\" #@param {type:\"string\"}\n",
        "want_to_save = True #@param {type:\"boolean\"}\n",
        "\n",
        "if want_to_save:\n",
        "  add_user(first_name, last_name, email)"
      ],
      "metadata": {
        "colab": {
          "base_uri": "https://localhost:8080/"
        },
        "id": "lnOuReejMayR",
        "outputId": "f9d98cba-99fd-4211-d377-9ca44862d098"
      },
      "execution_count": null,
      "outputs": [
        {
          "output_type": "stream",
          "name": "stdout",
          "text": [
            "No other user saved before. Information will be saved\n",
            "User succefully added\n"
          ]
        }
      ]
    },
    {
      "cell_type": "markdown",
      "source": [
        "Flip a coin (non cvs)"
      ],
      "metadata": {
        "id": "_CJovODMva05"
      }
    },
    {
      "cell_type": "code",
      "source": [
        "import random\n",
        "\n",
        "def coin_flip():\n",
        "    # call randint() to to select a number between 0 and 1\n",
        "    if random.randint(0, 1) == 0:\n",
        "        return 'Tails'\n",
        "    else:\n",
        "        return 'Heads'\n",
        "\n",
        "if __name__ == '__main__':\n",
        "    random.seed()\n",
        "    number_of_flips = int(input())\n",
        "for i in range(number_of_flips):\n",
        "    print(coin_flip())"
      ],
      "metadata": {
        "colab": {
          "base_uri": "https://localhost:8080/"
        },
        "id": "pE4x6op_vbQw",
        "outputId": "6567745e-ca64-41d2-93e8-9a73544a0e56"
      },
      "execution_count": null,
      "outputs": [
        {
          "output_type": "stream",
          "name": "stdout",
          "text": [
            "6\n",
            "Tails\n",
            "Heads\n",
            "Tails\n",
            "Heads\n",
            "Heads\n",
            "Tails\n"
          ]
        }
      ]
    },
    {
      "cell_type": "markdown",
      "source": [
        "Ordering a pizza"
      ],
      "metadata": {
        "id": "iT3xRRrvvZFc"
      }
    },
    {
      "cell_type": "code",
      "source": [
        "num_pizza=int(input('How many Pizzas would you like to order?'))\n",
        "\n",
        "pizza_cost=num_pizza*9.99\n",
        "print(f'Subtotal: ${pizza_cost:.2f}')\n",
        "\n",
        "pizza_tax=pizza_cost*0.06\n",
        "total_pizza=pizza_tax+pizza_cost\n",
        "print(f'Total due: ${total_pizza:.2f}')"
      ],
      "metadata": {
        "colab": {
          "base_uri": "https://localhost:8080/"
        },
        "id": "i3kUUKdZn4lK",
        "outputId": "b13db278-258a-4579-bceb-a30a5a751265"
      },
      "execution_count": null,
      "outputs": [
        {
          "output_type": "stream",
          "name": "stdout",
          "text": [
            "How many Pizzas would you like to order?100\n",
            "Subtotal: $999.00\n",
            "Total due: $1058.94\n"
          ]
        }
      ]
    }
  ]
}